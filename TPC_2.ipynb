{
  "nbformat": 4,
  "nbformat_minor": 0,
  "metadata": {
    "colab": {
      "name": "TPC 2.ipynb",
      "version": "0.3.2",
      "provenance": []
    },
    "kernelspec": {
      "name": "python3",
      "display_name": "Python 3"
    }
  },
  "cells": [
    {
      "metadata": {
        "id": "5hwbwhoqlyey",
        "colab_type": "code",
        "colab": {
          "base_uri": "https://localhost:8080/",
          "height": 68
        },
        "outputId": "6a4a43f3-5b12-481b-ba41-c9a727cb9e70"
      },
      "cell_type": "code",
      "source": [
        "A = [\"1P\", \"1C\", \"1O\", \"2P\", \"2C\", \"2O\", \"2E\", \"3P\", \"3C\", \"3O\", \"3E\", \"4P\", \"4C\", \"4O\", \"4E\", \"5P\", \"5C\", \"5O\", \"5E\", \"6P\", \"6C\", \"6O\", \"6E\", \"7P\", \"7C\", \"7O\", \"7E\", \"8P\", \"8C\", \"8O\", \"8E\", \"9P\", \"9C\", \"9O\", \"9E\", \"DP\", \"DC\", \"DO\", \"DE\", \"JP\", \"JC\", \"JO\", \"JE\", \"VP\", \"VC\", \"VO\", \"VE\", \"RP\", \"RC\", \"RO\", \"RE\", \"1P\", \"1C\", \"1O\", \"1E\", \"2P\", \"2C\", \"2O\", \"2E\", \"3P\", \"3C\", \"3O\", \"3E\", \"4P\", \"4C\", \"4O\", \"4E\", \"5P\", \"5C\", \"5O\", \"5E\", \"6P\", \"6C\", \"6O\", \"6E\", \"7P\", \"7C\", \"7O\", \"7E\", \"8P\", \"8C\", \"8O\", \"8E\", \"9P\", \"9C\", \"9O\", \"9E\", \"DP\", \"DC\", \"DO\", \"DE\", \"JP\", \"JC\", \"JO\", \"JE\", \"VP\", \"VC\", \"VO\", \"VE\", \"RP\", \"RC\", \"RO\", \"RE\", \"1P\", \"1C\", \"1O\", \"1E\", \"2P\", \"2C\", \"2O\", \"2E\", \"3P\", \"3C\", \"3O\", \"3E\", \"4P\", \"4C\", \"4O\", \"4E\", \"5P\", \"5C\", \"5O\", \"5E\", \"6P\", \"6C\", \"6O\", \"6E\", \"7P\", \"7C\", \"7O\", \"7E\", \"8P\", \"8C\", \"8O\", \"8E\", \"9P\", \"9C\", \"9O\", \"9E\", \"DP\", \"DC\", \"DO\", \"DE\", \"JP\", \"JC\", \"JO\", \"JE\", \"VP\", \"VC\", \"VO\", \"VE\", \"RP\", \"RC\", \"RO\", \"RE\"]\n",
        "\n",
        "#Cria uma matriz com as cartas disponiveis\n",
        "#Cada baralho tem 13 cartas mais a carta 0, logo 14 cartas no total\n",
        "matrix = [[0]*14 for i in range(4)]\n",
        "\n",
        "print(matrix)\n",
        "\n",
        "for r in range(len(A)):\n",
        "  carta=A[r]\n",
        "  n=carta[0]\n",
        "  na=carta[1]\n",
        "  local=[0,0]\n",
        " \n",
        "  # numeros ou figuras das cartas\n",
        "  #atribuir as letras a um numero de carta\n",
        "  if n == \"J\" :\n",
        "    local[1]=10\n",
        "  elif n== \"R\":\n",
        "    local[1]=11\n",
        "  elif n== \"D\":\n",
        "    local[1]=12\n",
        "  elif n==\"V\":\n",
        "    local[1]=13\n",
        "  else:\n",
        "    local[1]=int(n)\n",
        "      \n",
        " #Naipes das cartas\n",
        "  if na==\"E\":\n",
        "    local[0]=0\n",
        "  elif na==\"O\":\n",
        "    local[0]=1\n",
        "  elif na==\"P\":\n",
        "    local[0]=2\n",
        "  elif na==\"C\":\n",
        "    local[0]=3\n",
        "  else:\n",
        "    print()\n",
        "    \n",
        "  c=matrix[local[0]][local[1]]\n",
        "  matrix[local[0]][local[1]]=c+1 \n",
        "print(matrix)\n",
        "\n",
        "#nº total de baralhos\n",
        "total=999\n",
        "for t in range(4): \n",
        "  for y in range(1,14):\n",
        "    if matrix[t][y]<total:\n",
        "      total=matrix[t][y]\n",
        "      print(\"nº de baralhos completos: \", total)"
      ],
      "execution_count": 11,
      "outputs": [
        {
          "output_type": "stream",
          "text": [
            "[[0, 0, 0, 0, 0, 0, 0, 0, 0, 0, 0, 0, 0, 0], [0, 0, 0, 0, 0, 0, 0, 0, 0, 0, 0, 0, 0, 0], [0, 0, 0, 0, 0, 0, 0, 0, 0, 0, 0, 0, 0, 0], [0, 0, 0, 0, 0, 0, 0, 0, 0, 0, 0, 0, 0, 0]]\n",
            "[[0, 2, 3, 3, 3, 3, 3, 3, 3, 3, 3, 3, 3, 3], [0, 3, 3, 3, 3, 3, 3, 3, 3, 3, 3, 3, 3, 3], [0, 3, 3, 3, 3, 3, 3, 3, 3, 3, 3, 3, 3, 3], [0, 3, 3, 3, 3, 3, 3, 3, 3, 3, 3, 3, 3, 3]]\n",
            "nº de baralhos completos:  2\n"
          ],
          "name": "stdout"
        }
      ]
    }
  ]
}