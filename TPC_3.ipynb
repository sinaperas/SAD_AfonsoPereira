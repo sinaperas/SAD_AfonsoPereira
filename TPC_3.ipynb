{
  "nbformat": 4,
  "nbformat_minor": 0,
  "metadata": {
    "colab": {
      "name": "TPC 3.ipynb",
      "version": "0.3.2",
      "provenance": []
    },
    "kernelspec": {
      "name": "python3",
      "display_name": "Python 3"
    }
  },
  "cells": [
    {
      "metadata": {
        "id": "5hwbwhoqlyey",
        "colab_type": "code",
        "outputId": "25ff2589-b9bb-46dc-ae26-796603cfe9b5",
        "colab": {
          "base_uri": "https://localhost:8080/",
          "height": 51
        }
      },
      "cell_type": "code",
      "source": [
        "\n",
        "from sklearn import datasets\n",
        "import pandas as pd\n",
        "import numpy as np\n",
        "import matplotlib.pyplot as plt\n",
        "\n",
        "#importar os dados para a variavel\n",
        "data = datasets.california_housing.fetch_california_housing() \n",
        "\n",
        "dados = np.column_stack((data.data,data.target))\n",
        "#6)\n",
        "newfeature = data.feature_names + [\"Valor\"] \n",
        "\n",
        "#criação do data frame\n",
        "df = pd.DataFrame(dados, columns=newfeature)\n",
        "df.head()\n",
        "#1)\n",
        "agregar = df.groupby(\"MedInc\").agg([\"max\"])  \n",
        "agregar\n",
        "\n",
        "\n",
        "#2) sampling\n",
        "print(\"2) -----------------SAMPLING----------------\\n\", np.random.random_sample()) \n",
        "\n",
        "#4\n",
        "df.loc[0:9,[\"MedInc\",\"Population\"]]\n",
        "\n",
        "#5\n",
        "df.sort_values(\"Population\").iloc[0:4,:]\n",
        "\n",
        "#8)\n",
        "df.groupby(\"AveRooms\")[\"AveBedrms\"].transform('sum')\n",
        "df[\"total_quartos\"] = df.groupby('AveRooms')[\"AveBedrms\"].transform('sum')\n",
        "df\n",
        "df[\"Percent_of_Order\"] = df[\"AveBedrms\"] / df[\"AveRooms\"]"
      ],
      "execution_count": 2,
      "outputs": [
        {
          "output_type": "stream",
          "text": [
            "2) -----------------SAMPLING----------------\n",
            " 0.23070288640123693\n"
          ],
          "name": "stdout"
        }
      ]
    }
  ]
}