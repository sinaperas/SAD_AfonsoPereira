{
  "nbformat": 4,
  "nbformat_minor": 0,
  "metadata": {
    "colab": {
      "name": "TPC4.ipynb",
      "version": "0.3.2",
      "provenance": []
    },
    "kernelspec": {
      "name": "python3",
      "display_name": "Python 3"
    }
  },
  "cells": [
    {
      "metadata": {
        "id": "8-I-bafln7sH",
        "colab_type": "code",
        "colab": {
          "base_uri": "https://localhost:8080/",
          "height": 357
        },
        "outputId": "d8c4d7a8-ae28-4ed5-c78f-2cc60ec1a64b"
      },
      "cell_type": "code",
      "source": [
        "# Import datasets, classifiers and performance metrics\n",
        "from sklearn import datasets, tree, model_selection\n",
        "from sklearn.ensemble import RandomForestClassifier\n",
        "from matplotlib.colors import ListedColormap\n",
        "from sklearn.metrics import accuracy_score # use 'accuracy_score' to calculate the accuracy of the predicted labels.\n",
        "import pandas as pd\n",
        "import numpy as np\n",
        "import matplotlib.pyplot as plt\n",
        "\n",
        "from sklearn.naive_bayes import GaussianNB\n",
        "gnb = GaussianNB()\n",
        "\n",
        "# The digits dataset\n",
        "digits = datasets.load_digits()\n",
        "\n",
        "\n",
        "#modelo  Decision Tree\n",
        "[features_train, features_test, classes_train, classes_test] = model_selection.train_test_split(digits.data, digits.target, test_size=0.30, random_state = 100) \n",
        "model = tree.DecisionTreeClassifier()\n",
        "\n",
        "clf = model.fit(features_train, classes_train)\n",
        "\n",
        "#prever as labels do test set\n",
        "prever = model.predict(features_test)\n",
        "\n",
        "\n",
        "score_train = model.score(features_train, classes_train)\n",
        "score_test = model.score(features_test, classes_test)\n",
        "\n",
        "#Extrair os dados\n",
        "MyShape = digits.data\n",
        "\n",
        "print('Shape: ',MyShape.shape )\n",
        "#print(MyShape[:4])\n",
        "\n",
        "print('\\n\\tDecision Tree')\n",
        "print('==============================')\n",
        "print(\"Features:\", digits.target_names)\n",
        "print(\"score_train:\", score_train)\n",
        "print(\"score_test:\", score_test)\n",
        "print('==============================')\n",
        "\n",
        "\n",
        "#modelo Random Forrest\n",
        "\n",
        "model = RandomForestClassifier(n_estimators=1000)\n",
        "\n",
        "clf = model.fit(features_train, classes_train)\n",
        "\n",
        "score_train = model.score(features_train, classes_train)\n",
        "score_test = model.score(features_test, classes_test)\n",
        "\n",
        "print('\\n\\tRandom Forrest')\n",
        "print('==============================')\n",
        "print(\"score_train:\", score_train)\n",
        "print(\"score_test:\", score_test)\n",
        "print('==============================')\n",
        "\n",
        "#Modelo Naive Bayes\n",
        "y_pred = gnb.fit(features_train, classes_train)\n",
        "\n",
        "score_train = gnb.score(features_train, classes_train)\n",
        "score_test = gnb.score(features_test, classes_test)\n",
        "\n",
        "print('\\n\\tNaive Bayes')\n",
        "print('==============================')\n",
        "print(\"score_train:\", score_train)\n",
        "print(\"score_test:\", score_test)\n",
        "print('==============================')"
      ],
      "execution_count": 1,
      "outputs": [
        {
          "output_type": "stream",
          "text": [
            "Shape:  (1797, 64)\n",
            "\n",
            "\tDecision Tree\n",
            "==============================\n",
            "Features: [0 1 2 3 4 5 6 7 8 9]\n",
            "score_train: 1.0\n",
            "score_test: 0.8555555555555555\n",
            "==============================\n",
            "\n",
            "\tRandom Forrest\n",
            "==============================\n",
            "score_train: 1.0\n",
            "score_test: 0.9685185185185186\n",
            "==============================\n",
            "\n",
            "\tNaive Bayes\n",
            "==============================\n",
            "score_train: 0.8591885441527446\n",
            "score_test: 0.8203703703703704\n",
            "==============================\n"
          ],
          "name": "stdout"
        }
      ]
    }
  ]
}